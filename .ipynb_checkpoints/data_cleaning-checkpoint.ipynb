{
 "cells": [
  {
   "cell_type": "code",
   "execution_count": 1,
   "id": "258f90c4-c98c-490c-8c87-d227adfb624c",
   "metadata": {},
   "outputs": [],
   "source": [
    "import pandas as pd "
   ]
  },
  {
   "cell_type": "markdown",
   "id": "5b6c5534-ddcd-4ec7-9455-de74868ade28",
   "metadata": {},
   "source": [
    "# Importing and Cleaning CKD data (from UCI's ML repository)"
   ]
  },
  {
   "cell_type": "markdown",
   "id": "a2f7c236-e42c-4ef2-a054-4a822da21ee4",
   "metadata": {},
   "source": [
    "**Data Source: Rubini, L., Soundarapandian, P., & Eswaran, P. (2015). Chronic Kidney Disease [Dataset]. UCI Machine Learning Repository. https://doi.org/10.24432/C5G020.**"
   ]
  },
  {
   "cell_type": "code",
   "execution_count": 6,
   "id": "a9ca1853-26f6-4ec7-b4c5-8421794bb594",
   "metadata": {},
   "outputs": [],
   "source": [
    "df = pd.read_csv('kidney_disease.csv')\n",
    "\n",
    "# Dropping the rows with missing entries to get the full picture always\n",
    "df_clean = df.dropna(subset=['age', 'bp', 'htn', 'sc', 'hemo', 'classification', 'bgr', 'dm']).copy()\n",
    "\n",
    "df_clean = df_clean.map(lambda x: x.strip() if isinstance(x, str) else x)\n",
    "\n",
    "# Encoding the categorical variables into binary for heatmap + later analysis\n",
    "pd.set_option('future.no_silent_downcasting', True)\n",
    "df_clean.replace(\n",
    "    {'yes': 1, 'no': 0,\n",
    "     'present': 1, 'notpresent': 0,\n",
    "     'poor': 1, 'good': 0,\n",
    "     'ckd':1, 'notckd':0,\n",
    "     'abnormal':1, 'normal':0}, inplace=True)\n",
    "df_clean = df_clean.apply(pd.to_numeric, errors='coerce')\n",
    "\n",
    "# Note: 'id' refers to the person's number (1-400) in the dataset. We removed this since it doesn't provide any information.\n",
    "df_clean = df_clean.drop(columns=['id'])"
   ]
  },
  {
   "cell_type": "markdown",
   "id": "bf22130b-6f31-411d-8345-6548becbd547",
   "metadata": {},
   "source": [
    "**To keep the maximum number of data points for the analysis, 'NaN' values were only dropped from the columns of features used for EDA & model training. The features of interest in this study are hemoglobin (hemo), serum creatinine (sc), blood pressure (bp), hypertension (htn), blood glucose random (bgr), diabetes mellitus (dm), and age (age).**"
   ]
  },
  {
   "cell_type": "code",
   "execution_count": 7,
   "id": "6fbb2059-ca3c-414f-980c-1932c53a4962",
   "metadata": {},
   "outputs": [
    {
     "data": {
      "text/html": [
       "<div>\n",
       "<style scoped>\n",
       "    .dataframe tbody tr th:only-of-type {\n",
       "        vertical-align: middle;\n",
       "    }\n",
       "\n",
       "    .dataframe tbody tr th {\n",
       "        vertical-align: top;\n",
       "    }\n",
       "\n",
       "    .dataframe thead th {\n",
       "        text-align: right;\n",
       "    }\n",
       "</style>\n",
       "<table border=\"1\" class=\"dataframe\">\n",
       "  <thead>\n",
       "    <tr style=\"text-align: right;\">\n",
       "      <th></th>\n",
       "      <th>age</th>\n",
       "      <th>bp</th>\n",
       "      <th>sg</th>\n",
       "      <th>al</th>\n",
       "      <th>su</th>\n",
       "      <th>rbc</th>\n",
       "      <th>pc</th>\n",
       "      <th>pcc</th>\n",
       "      <th>ba</th>\n",
       "      <th>bgr</th>\n",
       "      <th>...</th>\n",
       "      <th>pcv</th>\n",
       "      <th>wc</th>\n",
       "      <th>rc</th>\n",
       "      <th>htn</th>\n",
       "      <th>dm</th>\n",
       "      <th>cad</th>\n",
       "      <th>appet</th>\n",
       "      <th>pe</th>\n",
       "      <th>ane</th>\n",
       "      <th>classification</th>\n",
       "    </tr>\n",
       "  </thead>\n",
       "  <tbody>\n",
       "    <tr>\n",
       "      <th>0</th>\n",
       "      <td>48.0</td>\n",
       "      <td>80.0</td>\n",
       "      <td>1.020</td>\n",
       "      <td>1.0</td>\n",
       "      <td>0.0</td>\n",
       "      <td>NaN</td>\n",
       "      <td>0.0</td>\n",
       "      <td>0.0</td>\n",
       "      <td>0.0</td>\n",
       "      <td>121.0</td>\n",
       "      <td>...</td>\n",
       "      <td>44.0</td>\n",
       "      <td>7800.0</td>\n",
       "      <td>5.2</td>\n",
       "      <td>1</td>\n",
       "      <td>1</td>\n",
       "      <td>0</td>\n",
       "      <td>0.0</td>\n",
       "      <td>0.0</td>\n",
       "      <td>0.0</td>\n",
       "      <td>1</td>\n",
       "    </tr>\n",
       "    <tr>\n",
       "      <th>2</th>\n",
       "      <td>62.0</td>\n",
       "      <td>80.0</td>\n",
       "      <td>1.010</td>\n",
       "      <td>2.0</td>\n",
       "      <td>3.0</td>\n",
       "      <td>0.0</td>\n",
       "      <td>0.0</td>\n",
       "      <td>0.0</td>\n",
       "      <td>0.0</td>\n",
       "      <td>423.0</td>\n",
       "      <td>...</td>\n",
       "      <td>31.0</td>\n",
       "      <td>7500.0</td>\n",
       "      <td>NaN</td>\n",
       "      <td>0</td>\n",
       "      <td>1</td>\n",
       "      <td>0</td>\n",
       "      <td>1.0</td>\n",
       "      <td>0.0</td>\n",
       "      <td>1.0</td>\n",
       "      <td>1</td>\n",
       "    </tr>\n",
       "    <tr>\n",
       "      <th>3</th>\n",
       "      <td>48.0</td>\n",
       "      <td>70.0</td>\n",
       "      <td>1.005</td>\n",
       "      <td>4.0</td>\n",
       "      <td>0.0</td>\n",
       "      <td>0.0</td>\n",
       "      <td>1.0</td>\n",
       "      <td>1.0</td>\n",
       "      <td>0.0</td>\n",
       "      <td>117.0</td>\n",
       "      <td>...</td>\n",
       "      <td>32.0</td>\n",
       "      <td>6700.0</td>\n",
       "      <td>3.9</td>\n",
       "      <td>1</td>\n",
       "      <td>0</td>\n",
       "      <td>0</td>\n",
       "      <td>1.0</td>\n",
       "      <td>1.0</td>\n",
       "      <td>1.0</td>\n",
       "      <td>1</td>\n",
       "    </tr>\n",
       "    <tr>\n",
       "      <th>4</th>\n",
       "      <td>51.0</td>\n",
       "      <td>80.0</td>\n",
       "      <td>1.010</td>\n",
       "      <td>2.0</td>\n",
       "      <td>0.0</td>\n",
       "      <td>0.0</td>\n",
       "      <td>0.0</td>\n",
       "      <td>0.0</td>\n",
       "      <td>0.0</td>\n",
       "      <td>106.0</td>\n",
       "      <td>...</td>\n",
       "      <td>35.0</td>\n",
       "      <td>7300.0</td>\n",
       "      <td>4.6</td>\n",
       "      <td>0</td>\n",
       "      <td>0</td>\n",
       "      <td>0</td>\n",
       "      <td>0.0</td>\n",
       "      <td>0.0</td>\n",
       "      <td>0.0</td>\n",
       "      <td>1</td>\n",
       "    </tr>\n",
       "    <tr>\n",
       "      <th>5</th>\n",
       "      <td>60.0</td>\n",
       "      <td>90.0</td>\n",
       "      <td>1.015</td>\n",
       "      <td>3.0</td>\n",
       "      <td>0.0</td>\n",
       "      <td>NaN</td>\n",
       "      <td>NaN</td>\n",
       "      <td>0.0</td>\n",
       "      <td>0.0</td>\n",
       "      <td>74.0</td>\n",
       "      <td>...</td>\n",
       "      <td>39.0</td>\n",
       "      <td>7800.0</td>\n",
       "      <td>4.4</td>\n",
       "      <td>1</td>\n",
       "      <td>1</td>\n",
       "      <td>0</td>\n",
       "      <td>0.0</td>\n",
       "      <td>1.0</td>\n",
       "      <td>0.0</td>\n",
       "      <td>1</td>\n",
       "    </tr>\n",
       "  </tbody>\n",
       "</table>\n",
       "<p>5 rows × 25 columns</p>\n",
       "</div>"
      ],
      "text/plain": [
       "    age    bp     sg   al   su  rbc   pc  pcc   ba    bgr  ...   pcv      wc  \\\n",
       "0  48.0  80.0  1.020  1.0  0.0  NaN  0.0  0.0  0.0  121.0  ...  44.0  7800.0   \n",
       "2  62.0  80.0  1.010  2.0  3.0  0.0  0.0  0.0  0.0  423.0  ...  31.0  7500.0   \n",
       "3  48.0  70.0  1.005  4.0  0.0  0.0  1.0  1.0  0.0  117.0  ...  32.0  6700.0   \n",
       "4  51.0  80.0  1.010  2.0  0.0  0.0  0.0  0.0  0.0  106.0  ...  35.0  7300.0   \n",
       "5  60.0  90.0  1.015  3.0  0.0  NaN  NaN  0.0  0.0   74.0  ...  39.0  7800.0   \n",
       "\n",
       "    rc  htn  dm  cad  appet   pe  ane  classification  \n",
       "0  5.2    1   1    0    0.0  0.0  0.0               1  \n",
       "2  NaN    0   1    0    1.0  0.0  1.0               1  \n",
       "3  3.9    1   0    0    1.0  1.0  1.0               1  \n",
       "4  4.6    0   0    0    0.0  0.0  0.0               1  \n",
       "5  4.4    1   1    0    0.0  1.0  0.0               1  \n",
       "\n",
       "[5 rows x 25 columns]"
      ]
     },
     "execution_count": 7,
     "metadata": {},
     "output_type": "execute_result"
    }
   ],
   "source": [
    "df_clean.head()"
   ]
  },
  {
   "cell_type": "code",
   "execution_count": 8,
   "id": "1d071ac9-31ca-48c9-ae32-bc965944507d",
   "metadata": {},
   "outputs": [
    {
     "data": {
      "text/plain": [
       "classification\n",
       "1    161\n",
       "0    132\n",
       "Name: count, dtype: int64"
      ]
     },
     "execution_count": 8,
     "metadata": {},
     "output_type": "execute_result"
    }
   ],
   "source": [
    "df_clean['classification'].value_counts()"
   ]
  },
  {
   "cell_type": "markdown",
   "id": "4f2dbc13-828f-43ed-8cd0-5d4794c10002",
   "metadata": {},
   "source": [
    "**The cleaned data has a satisfactory amount of points with an approximately even split in classification counts, which is ideal.**"
   ]
  },
  {
   "cell_type": "code",
   "execution_count": 9,
   "id": "04b47c64-ad19-495c-8acf-c0984e837750",
   "metadata": {},
   "outputs": [],
   "source": [
    "df_clean.to_csv('clean.csv', index = False)"
   ]
  }
 ],
 "metadata": {
  "kernelspec": {
   "display_name": "Python [conda env:ckd_env]",
   "language": "python",
   "name": "conda-env-ckd_env-py"
  },
  "language_info": {
   "codemirror_mode": {
    "name": "ipython",
    "version": 3
   },
   "file_extension": ".py",
   "mimetype": "text/x-python",
   "name": "python",
   "nbconvert_exporter": "python",
   "pygments_lexer": "ipython3",
   "version": "3.11.13"
  }
 },
 "nbformat": 4,
 "nbformat_minor": 5
}
